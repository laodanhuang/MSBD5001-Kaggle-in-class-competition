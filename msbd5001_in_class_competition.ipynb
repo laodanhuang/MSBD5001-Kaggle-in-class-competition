{
 "cells": [
  {
   "cell_type": "code",
   "execution_count": 88,
   "metadata": {},
   "outputs": [],
   "source": [
    "import os\n",
    "import sys\n",
    "import operator\n",
    "import numpy as np\n",
    "import pandas as pd\n",
    "import xgboost as xgb\n",
    "from sklearn import model_selection, preprocessing, ensemble\n",
    "from sklearn.metrics import log_loss, mean_squared_error,SCORERS\n",
    "from sklearn.model_selection import train_test_split, KFold, cross_validate, GridSearchCV, StratifiedKFold"
   ]
  },
  {
   "cell_type": "code",
   "execution_count": 89,
   "metadata": {},
   "outputs": [
    {
     "name": "stdout",
     "output_type": "stream",
     "text": [
      "(14006, 3)\n",
      "(3504, 2)\n"
     ]
    }
   ],
   "source": [
    "train_df = pd.read_csv('train.csv')\n",
    "test_df = pd.read_csv('test.csv')\n",
    "print(train_df.shape)\n",
    "print(test_df.shape)"
   ]
  },
  {
   "cell_type": "code",
   "execution_count": 90,
   "metadata": {},
   "outputs": [
    {
     "name": "stdout",
     "output_type": "stream",
     "text": [
      "0\n"
     ]
    },
    {
     "data": {
      "text/html": [
       "<div>\n",
       "<style scoped>\n",
       "    .dataframe tbody tr th:only-of-type {\n",
       "        vertical-align: middle;\n",
       "    }\n",
       "\n",
       "    .dataframe tbody tr th {\n",
       "        vertical-align: top;\n",
       "    }\n",
       "\n",
       "    .dataframe thead th {\n",
       "        text-align: right;\n",
       "    }\n",
       "</style>\n",
       "<table border=\"1\" class=\"dataframe\">\n",
       "  <thead>\n",
       "    <tr style=\"text-align: right;\">\n",
       "      <th></th>\n",
       "      <th>id</th>\n",
       "      <th>date</th>\n",
       "      <th>speed</th>\n",
       "    </tr>\n",
       "  </thead>\n",
       "  <tbody>\n",
       "    <tr>\n",
       "      <th>0</th>\n",
       "      <td>0</td>\n",
       "      <td>1/1/2017 0:00</td>\n",
       "      <td>43.002930</td>\n",
       "    </tr>\n",
       "    <tr>\n",
       "      <th>1</th>\n",
       "      <td>1</td>\n",
       "      <td>1/1/2017 1:00</td>\n",
       "      <td>46.118696</td>\n",
       "    </tr>\n",
       "    <tr>\n",
       "      <th>2</th>\n",
       "      <td>2</td>\n",
       "      <td>1/1/2017 2:00</td>\n",
       "      <td>44.294158</td>\n",
       "    </tr>\n",
       "    <tr>\n",
       "      <th>3</th>\n",
       "      <td>3</td>\n",
       "      <td>1/1/2017 3:00</td>\n",
       "      <td>41.067468</td>\n",
       "    </tr>\n",
       "    <tr>\n",
       "      <th>4</th>\n",
       "      <td>4</td>\n",
       "      <td>1/1/2017 4:00</td>\n",
       "      <td>46.448653</td>\n",
       "    </tr>\n",
       "  </tbody>\n",
       "</table>\n",
       "</div>"
      ],
      "text/plain": [
       "   id           date      speed\n",
       "0   0  1/1/2017 0:00  43.002930\n",
       "1   1  1/1/2017 1:00  46.118696\n",
       "2   2  1/1/2017 2:00  44.294158\n",
       "3   3  1/1/2017 3:00  41.067468\n",
       "4   4  1/1/2017 4:00  46.448653"
      ]
     },
     "execution_count": 90,
     "metadata": {},
     "output_type": "execute_result"
    }
   ],
   "source": [
    "data = train_df.copy()\n",
    "print(data['speed'].isnull().sum())\n",
    "data.head()"
   ]
  },
  {
   "cell_type": "code",
   "execution_count": 91,
   "metadata": {},
   "outputs": [
    {
     "data": {
      "text/plain": [
       "0   2017-01-01 00:00:00\n",
       "1   2017-01-01 01:00:00\n",
       "2   2017-01-01 02:00:00\n",
       "3   2017-01-01 03:00:00\n",
       "4   2017-01-01 04:00:00\n",
       "Name: date1, dtype: datetime64[ns]"
      ]
     },
     "execution_count": 91,
     "metadata": {},
     "output_type": "execute_result"
    }
   ],
   "source": [
    "data['date1'] = pd.to_datetime(data['date'], format = '%d/%m/%Y %H:%M')\n",
    "data['date1'].head()"
   ]
  },
  {
   "cell_type": "code",
   "execution_count": 92,
   "metadata": {},
   "outputs": [],
   "source": [
    "data['t_date'] = data['date1'].dt.date\n",
    "data['t_time'] = data['date1'].dt.time"
   ]
  },
  {
   "cell_type": "code",
   "execution_count": 93,
   "metadata": {},
   "outputs": [],
   "source": [
    "\"\"\"\n",
    "\"rain.csv\" is weather statistics that I crawled from the website https://www.hko.gov.hk/tc/cis/dailyExtract.htm?y=2017&m=12\n",
    "And in this file there are also some features I add manually, like 'holiday',which means that whether this day is HK holiday\n",
    "\"\"\"\n",
    "rain17 = pd.read_csv('rain.csv')"
   ]
  },
  {
   "cell_type": "code",
   "execution_count": 94,
   "metadata": {},
   "outputs": [],
   "source": [
    "rain17['t_date'] = pd.to_datetime(rain17['t_date'], format = '%Y/%m/%d')\n",
    "rain17['t_date'] = rain17['t_date'].dt.date\n",
    "rain17['holiday'].fillna(0, inplace = True)\n",
    "rain17['is_weekend'].fillna(0, inplace = True)\n",
    "rain17['daybefore'].fillna(0, inplace = True)"
   ]
  },
  {
   "cell_type": "code",
   "execution_count": 95,
   "metadata": {},
   "outputs": [
    {
     "data": {
      "text/plain": [
       "(14006, 23)"
      ]
     },
     "execution_count": 95,
     "metadata": {},
     "output_type": "execute_result"
    }
   ],
   "source": [
    "\"\"\"\n",
    "Merging\n",
    "\"\"\"\n",
    "temp = pd.merge(data, rain17, on = 't_date')\n",
    "temp.to_csv('temp.csv')\n",
    "temp.shape"
   ]
  },
  {
   "cell_type": "code",
   "execution_count": 96,
   "metadata": {},
   "outputs": [],
   "source": [
    "train_df = pd.read_csv('temp.csv')"
   ]
  },
  {
   "cell_type": "code",
   "execution_count": 97,
   "metadata": {},
   "outputs": [],
   "source": [
    "\"\"\"\n",
    "In this part, I construct some new features from the original feature (year,month,day,hour)\n",
    "\"\"\"\n",
    "\n",
    "train_df['date'] = pd.to_datetime(train_df['date'], format = '%d/%m/%Y %H:%M')\n",
    "\n",
    "to_one_hot = train_df['date'].dt.day_name()\n",
    "days = pd.get_dummies(to_one_hot)\n",
    "train_df = train_df.join(days)\n",
    "\n",
    "day_to_onehot = pd.get_dummies(train_df['date'].dt.day)\n",
    "train_df = train_df.join(day_to_onehot)\n",
    "\n",
    "# hour_to_onehot = pd.get_dummies(train_df['date'].dt.hour)\n",
    "# train_df = train_df.join(hour_to_onehot)\n",
    "\n",
    "train_df['year'] = train_df['date'].dt.year\n",
    "train_df['month'] = train_df['date'].dt.month\n",
    "\n",
    "train_df['day'] = train_df['date'].dt.day\n",
    "\n",
    "train_df['hour'] = train_df['date'].dt.hour\n",
    "\n",
    "def rushhour(hour):\n",
    "    if hour in [8,9]:\n",
    "        return 'rush_morning'\n",
    "    if hour in [18,19,20]:\n",
    "        return 'rush_evening'\n",
    "\n",
    "# def daypart(hour):\n",
    "#     if hour in [2,3,4,5]:\n",
    "#         return 'dawn'\n",
    "#     elif hour in [6,7,8,9]:\n",
    "#         return 'morning'\n",
    "#     elif hour in [10,11,12,13]:\n",
    "#         return 'noon'\n",
    "#     elif hour in [14,15,16,17]:\n",
    "#         return 'afternoon'\n",
    "#     elif hour in [18,19,20,21]:\n",
    "#         return 'evening'\n",
    "#     else:\n",
    "#         return 'midnight'\n",
    "\n",
    "def daypart(hour):\n",
    "    if hour in [0,1]:\n",
    "        return 'h1'\n",
    "    elif hour in [2,3]:\n",
    "        return 'h2'\n",
    "    elif hour in [4,5]:\n",
    "        return 'h3'\n",
    "    elif hour in [6,7]:\n",
    "        return 'h4'\n",
    "    elif hour in [8,9]:\n",
    "        return 'h5'\n",
    "    elif hour in [10,11]:\n",
    "        return 'h6'\n",
    "    elif hour in [12,13]:\n",
    "        return 'h7'\n",
    "    elif hour in [14,15]:\n",
    "        return 'h8'\n",
    "    elif hour in [16,17]:\n",
    "        return 'h9'\n",
    "    elif hour in [18,19]:\n",
    "        return 'h10'\n",
    "    elif hour in [20,21]:\n",
    "        return 'h11'\n",
    "    else:\n",
    "        return 'h12'\n",
    "\n",
    "dp = train_df['hour'].apply(daypart)\n",
    "dayparts = pd.get_dummies(dp)\n",
    "train_df = train_df.join(dayparts)\n",
    "\n",
    "rh = train_df['hour'].apply(rushhour)\n",
    "rush_hours = pd.get_dummies(rh)\n",
    "train_df = train_df.join(rush_hours)"
   ]
  },
  {
   "cell_type": "code",
   "execution_count": 98,
   "metadata": {},
   "outputs": [
    {
     "data": {
      "text/html": [
       "<div>\n",
       "<style scoped>\n",
       "    .dataframe tbody tr th:only-of-type {\n",
       "        vertical-align: middle;\n",
       "    }\n",
       "\n",
       "    .dataframe tbody tr th {\n",
       "        vertical-align: top;\n",
       "    }\n",
       "\n",
       "    .dataframe thead th {\n",
       "        text-align: right;\n",
       "    }\n",
       "</style>\n",
       "<table border=\"1\" class=\"dataframe\">\n",
       "  <thead>\n",
       "    <tr style=\"text-align: right;\">\n",
       "      <th></th>\n",
       "      <th>Unnamed: 0</th>\n",
       "      <th>id</th>\n",
       "      <th>date</th>\n",
       "      <th>speed</th>\n",
       "      <th>date1</th>\n",
       "      <th>t_date</th>\n",
       "      <th>t_time</th>\n",
       "      <th>holiday</th>\n",
       "      <th>daybefore</th>\n",
       "      <th>is_weekend</th>\n",
       "      <th>...</th>\n",
       "      <th>h2</th>\n",
       "      <th>h3</th>\n",
       "      <th>h4</th>\n",
       "      <th>h5</th>\n",
       "      <th>h6</th>\n",
       "      <th>h7</th>\n",
       "      <th>h8</th>\n",
       "      <th>h9</th>\n",
       "      <th>rush_evening</th>\n",
       "      <th>rush_morning</th>\n",
       "    </tr>\n",
       "  </thead>\n",
       "  <tbody>\n",
       "    <tr>\n",
       "      <th>0</th>\n",
       "      <td>0</td>\n",
       "      <td>0</td>\n",
       "      <td>2017-01-01 00:00:00</td>\n",
       "      <td>43.002930</td>\n",
       "      <td>2017-01-01 00:00:00</td>\n",
       "      <td>2017-01-01</td>\n",
       "      <td>00:00:00</td>\n",
       "      <td>1.0</td>\n",
       "      <td>0.0</td>\n",
       "      <td>1.0</td>\n",
       "      <td>...</td>\n",
       "      <td>0</td>\n",
       "      <td>0</td>\n",
       "      <td>0</td>\n",
       "      <td>0</td>\n",
       "      <td>0</td>\n",
       "      <td>0</td>\n",
       "      <td>0</td>\n",
       "      <td>0</td>\n",
       "      <td>0</td>\n",
       "      <td>0</td>\n",
       "    </tr>\n",
       "    <tr>\n",
       "      <th>1</th>\n",
       "      <td>1</td>\n",
       "      <td>1</td>\n",
       "      <td>2017-01-01 01:00:00</td>\n",
       "      <td>46.118696</td>\n",
       "      <td>2017-01-01 01:00:00</td>\n",
       "      <td>2017-01-01</td>\n",
       "      <td>01:00:00</td>\n",
       "      <td>1.0</td>\n",
       "      <td>0.0</td>\n",
       "      <td>1.0</td>\n",
       "      <td>...</td>\n",
       "      <td>0</td>\n",
       "      <td>0</td>\n",
       "      <td>0</td>\n",
       "      <td>0</td>\n",
       "      <td>0</td>\n",
       "      <td>0</td>\n",
       "      <td>0</td>\n",
       "      <td>0</td>\n",
       "      <td>0</td>\n",
       "      <td>0</td>\n",
       "    </tr>\n",
       "    <tr>\n",
       "      <th>2</th>\n",
       "      <td>2</td>\n",
       "      <td>2</td>\n",
       "      <td>2017-01-01 02:00:00</td>\n",
       "      <td>44.294158</td>\n",
       "      <td>2017-01-01 02:00:00</td>\n",
       "      <td>2017-01-01</td>\n",
       "      <td>02:00:00</td>\n",
       "      <td>1.0</td>\n",
       "      <td>0.0</td>\n",
       "      <td>1.0</td>\n",
       "      <td>...</td>\n",
       "      <td>1</td>\n",
       "      <td>0</td>\n",
       "      <td>0</td>\n",
       "      <td>0</td>\n",
       "      <td>0</td>\n",
       "      <td>0</td>\n",
       "      <td>0</td>\n",
       "      <td>0</td>\n",
       "      <td>0</td>\n",
       "      <td>0</td>\n",
       "    </tr>\n",
       "    <tr>\n",
       "      <th>3</th>\n",
       "      <td>3</td>\n",
       "      <td>3</td>\n",
       "      <td>2017-01-01 03:00:00</td>\n",
       "      <td>41.067468</td>\n",
       "      <td>2017-01-01 03:00:00</td>\n",
       "      <td>2017-01-01</td>\n",
       "      <td>03:00:00</td>\n",
       "      <td>1.0</td>\n",
       "      <td>0.0</td>\n",
       "      <td>1.0</td>\n",
       "      <td>...</td>\n",
       "      <td>1</td>\n",
       "      <td>0</td>\n",
       "      <td>0</td>\n",
       "      <td>0</td>\n",
       "      <td>0</td>\n",
       "      <td>0</td>\n",
       "      <td>0</td>\n",
       "      <td>0</td>\n",
       "      <td>0</td>\n",
       "      <td>0</td>\n",
       "    </tr>\n",
       "    <tr>\n",
       "      <th>4</th>\n",
       "      <td>4</td>\n",
       "      <td>4</td>\n",
       "      <td>2017-01-01 04:00:00</td>\n",
       "      <td>46.448653</td>\n",
       "      <td>2017-01-01 04:00:00</td>\n",
       "      <td>2017-01-01</td>\n",
       "      <td>04:00:00</td>\n",
       "      <td>1.0</td>\n",
       "      <td>0.0</td>\n",
       "      <td>1.0</td>\n",
       "      <td>...</td>\n",
       "      <td>0</td>\n",
       "      <td>1</td>\n",
       "      <td>0</td>\n",
       "      <td>0</td>\n",
       "      <td>0</td>\n",
       "      <td>0</td>\n",
       "      <td>0</td>\n",
       "      <td>0</td>\n",
       "      <td>0</td>\n",
       "      <td>0</td>\n",
       "    </tr>\n",
       "  </tbody>\n",
       "</table>\n",
       "<p>5 rows × 80 columns</p>\n",
       "</div>"
      ],
      "text/plain": [
       "   Unnamed: 0  id                date      speed                date1  \\\n",
       "0           0   0 2017-01-01 00:00:00  43.002930  2017-01-01 00:00:00   \n",
       "1           1   1 2017-01-01 01:00:00  46.118696  2017-01-01 01:00:00   \n",
       "2           2   2 2017-01-01 02:00:00  44.294158  2017-01-01 02:00:00   \n",
       "3           3   3 2017-01-01 03:00:00  41.067468  2017-01-01 03:00:00   \n",
       "4           4   4 2017-01-01 04:00:00  46.448653  2017-01-01 04:00:00   \n",
       "\n",
       "       t_date    t_time  holiday  daybefore  is_weekend  ...  h2  h3  h4  h5  \\\n",
       "0  2017-01-01  00:00:00      1.0        0.0         1.0  ...   0   0   0   0   \n",
       "1  2017-01-01  01:00:00      1.0        0.0         1.0  ...   0   0   0   0   \n",
       "2  2017-01-01  02:00:00      1.0        0.0         1.0  ...   1   0   0   0   \n",
       "3  2017-01-01  03:00:00      1.0        0.0         1.0  ...   1   0   0   0   \n",
       "4  2017-01-01  04:00:00      1.0        0.0         1.0  ...   0   1   0   0   \n",
       "\n",
       "   h6  h7  h8  h9  rush_evening rush_morning  \n",
       "0   0   0   0   0             0            0  \n",
       "1   0   0   0   0             0            0  \n",
       "2   0   0   0   0             0            0  \n",
       "3   0   0   0   0             0            0  \n",
       "4   0   0   0   0             0            0  \n",
       "\n",
       "[5 rows x 80 columns]"
      ]
     },
     "execution_count": 98,
     "metadata": {},
     "output_type": "execute_result"
    }
   ],
   "source": [
    "train_df.head()"
   ]
  },
  {
   "cell_type": "markdown",
   "metadata": {},
   "source": [
    "# Training process"
   ]
  },
  {
   "cell_type": "code",
   "execution_count": 99,
   "metadata": {},
   "outputs": [],
   "source": [
    "\"\"\"\n",
    "In this part, I tried different combination of features. To ensure the code is easy to read, I only kept 4 of those combination.\n",
    "\"\"\"\n",
    "# features_to_use = ['year','hour','month','day','Monday','Wednesday','Tuesday','Thursday',\n",
    "#                 'Friday','Sunday','Saturday',\n",
    "#                    'h1','h2','h3','h4','h5','h6','h7','h8','h9','h10','h11','h12',\n",
    "#                'holiday','is_weekend','weekday','temper','cloud','rain','wind','wet',\n",
    "#                   'daybefore','rush_morning','rush_evening',10,15,16,22,28,'pressure']# feature 1\n",
    "# features_to_use = ['year','hour','month','day','Monday','Wednesday','Tuesday','Thursday',\n",
    "#                 'Friday','Sunday','Saturday',\n",
    "#                    'h1','h2','h3','h4','h5','h6','h7','h8','h9','h10','h11','h12',\n",
    "#                'holiday','is_weekend','weekday','temper','cloud','rain','wind','wet',\n",
    "#                   'daybefore','rush_morning','rush_evening']# feature 2\n",
    "# features_to_use = ['year','hour','month','day','Monday','Wednesday','Tuesday','Thursday',\n",
    "#                 'Friday','Sunday','Saturday','h2','h3','h4','h5','h6','h7','h8','h9','h10','h11',\n",
    "#                'holiday','is_weekend','sun','visibility','weekday','temper','cloud','rain','wind','wet',\n",
    "#                   'daybefore','rush_evening','pressure']  # feature 3\n",
    "features_to_use = ['year','hour','month','day','Monday','Wednesday','Tuesday','Thursday',\n",
    "                'Friday','Sunday','Saturday','h2','h3','h4','h5','h6','h7','h8','h9','h10','h11',\n",
    "               'holiday','is_weekend','weekday','temper','cloud','rain','wind','wet',\n",
    "                  'daybefore','rush_evening','pressure']  # feature 4\n",
    "\n",
    "X = train_df[features_to_use]\n",
    "y = train_df['speed']"
   ]
  },
  {
   "cell_type": "markdown",
   "metadata": {},
   "source": [
    "# Model tuning"
   ]
  },
  {
   "cell_type": "code",
   "execution_count": 38,
   "metadata": {},
   "outputs": [
    {
     "name": "stdout",
     "output_type": "stream",
     "text": [
      "Fitting 5 folds for each of 60 candidates, totalling 300 fits\n"
     ]
    },
    {
     "name": "stderr",
     "output_type": "stream",
     "text": [
      "[Parallel(n_jobs=-1)]: Using backend LokyBackend with 12 concurrent workers.\n",
      "[Parallel(n_jobs=-1)]: Done  26 tasks      | elapsed:   46.9s\n",
      "[Parallel(n_jobs=-1)]: Done 176 tasks      | elapsed:  4.9min\n",
      "[Parallel(n_jobs=-1)]: Done 300 out of 300 | elapsed:  8.5min finished\n"
     ]
    }
   ],
   "source": [
    "\"\"\"\n",
    "Hyperparameters tuning and cross validation\n",
    "\"\"\"\n",
    "xgb_model = xgb.XGBRegressor()\n",
    "kfold = KFold(n_splits=5, shuffle=True, random_state=666) \n",
    "\n",
    "param_grid = {\n",
    "    'learning_rate':[0.05,0.04],\n",
    "    'max_depth':[9],\n",
    "    'subsample':[0.8,0.9],  \n",
    "    'n_estimators': list(range(300, 400, 20)),\n",
    "    'gamma':[0.2],\n",
    "    'reg_alpha':[2,3,4],\n",
    "    'min_child_weight':[1]\n",
    "}\n",
    "grid_search = GridSearchCV(estimator=xgb_model, scoring='neg_mean_squared_error', param_grid=param_grid,verbose=1, n_jobs=-1, cv=kfold)\n",
    "grid_result = grid_search.fit(X, y)  "
   ]
  },
  {
   "cell_type": "code",
   "execution_count": 39,
   "metadata": {},
   "outputs": [
    {
     "name": "stdout",
     "output_type": "stream",
     "text": [
      "Best: -10.473639028439262 using {'gamma': 0.2, 'learning_rate': 0.04, 'max_depth': 9, 'min_child_weight': 1, 'n_estimators': 380, 'reg_alpha': 4, 'subsample': 0.8} \n",
      "\n"
     ]
    }
   ],
   "source": [
    "print(f'Best: {grid_result.best_score_} using {grid_result.best_params_}','\\n')"
   ]
  },
  {
   "cell_type": "code",
   "execution_count": 108,
   "metadata": {},
   "outputs": [
    {
     "data": {
      "text/plain": [
       "{'fit_time': array([10.28050542, 10.48196816, 10.48695493, 10.44406962, 10.48196864]),\n",
       " 'score_time': array([0.13863087, 0.13065004, 0.13464022, 0.13663554, 0.13065052]),\n",
       " 'test_neg_mean_squared_error': array([-11.2549479 ,  -9.99666711, -10.80706236, -10.04678234,\n",
       "        -10.31369392])}"
      ]
     },
     "execution_count": 108,
     "metadata": {},
     "output_type": "execute_result"
    }
   ],
   "source": [
    "kfold2 = KFold(n_splits=5, shuffle=True, random_state=333) \n",
    "scores = cross_validate(estimator=xgb_model, X=X, y=y, cv=kfold2, n_jobs=-1, \n",
    "                        scoring=['neg_mean_squared_error'])\n",
    "scores"
   ]
  },
  {
   "cell_type": "markdown",
   "metadata": {},
   "source": [
    "# Predict the result"
   ]
  },
  {
   "cell_type": "code",
   "execution_count": null,
   "metadata": {},
   "outputs": [],
   "source": [
    "xgb_model = xgb.XGBRegressor(learning_rate=0.05,max_depth=9,n_estimators=360,reg_alpha=4,subsample=0.8,gamma=0.2,min_child_weight=1)"
   ]
  },
  {
   "cell_type": "code",
   "execution_count": 101,
   "metadata": {},
   "outputs": [
    {
     "data": {
      "text/plain": [
       "XGBRegressor(base_score=0.5, booster='gbtree', colsample_bylevel=1,\n",
       "             colsample_bynode=1, colsample_bytree=1, gamma=0.2, gpu_id=-1,\n",
       "             importance_type='gain', interaction_constraints='',\n",
       "             learning_rate=0.05, max_delta_step=0, max_depth=9,\n",
       "             min_child_weight=1, missing=nan, monotone_constraints='()',\n",
       "             n_estimators=360, n_jobs=0, num_parallel_tree=1, random_state=0,\n",
       "             reg_alpha=4, reg_lambda=1, scale_pos_weight=1, subsample=0.8,\n",
       "             tree_method='exact', validate_parameters=1, verbosity=None)"
      ]
     },
     "execution_count": 101,
     "metadata": {},
     "output_type": "execute_result"
    }
   ],
   "source": [
    "xgb_model.fit(X, y)"
   ]
  },
  {
   "cell_type": "markdown",
   "metadata": {},
   "source": [
    "Best: -10.88434304949807 using {'learning_rate': 0.05, 'max_depth': 7, 'n_estimators': 350, 'subsample': 0.8} \n",
    "Best: -10.748485015272758 using {'learning_rate': 0.05, 'max_depth': 8, 'n_estimators': 380, 'subsample': 0.8}   use features 1\n",
    "\n",
    "Best: -10.701073329887727 using {'learning_rate': 0.05, 'max_depth': 8, 'n_estimators': 380, 'subsample': 0.8}  use features 2  cv score 11.22\n",
    "\n",
    "Best: -10.649892617966735 using {'learning_rate': 0.04, 'max_depth': 9, 'n_estimators': 380, 'subsample': 0.8}   use features 3 cv score 11.23\n",
    "\n",
    "Best: -10.675140027543065 using {'learning_rate': 0.04, 'max_depth': 8, 'n_estimators': 390, 'subsample': 0.9}  use features 4 cv score 10.97\n",
    "Best: -10.575227192509162 using {'gamma': 0.2, 'learning_rate': 0.04, 'max_depth': 9, 'n_estimators': 380, 'reg_alpha': 2, 'subsample': 0.8}  use features 4 cv score 10.39\n",
    "Best: -10.55632423654518 using {'gamma': 0.2, 'learning_rate': 0.05, 'max_depth': 9, 'min_child_weight': 1, 'n_estimators': 360, 'reg_alpha': 4, 'subsample': 0.8}  use features 4 cv score 10.31(FINAL SUBMISSION)\n",
    "xgb_model = xgb.XGBRegressor(learning_rate=0.04,max_depth=9,n_estimators=380,reg_alpha=4,subsample=0.8,gamma=0.2,min_child_weight=1) use features 3 cv score 10.38   (FINAL SUBMISSION)\n"
   ]
  },
  {
   "cell_type": "code",
   "execution_count": 84,
   "metadata": {},
   "outputs": [],
   "source": [
    "# xgb_model = xgb.XGBRegressor(learning_rate=0.05, max_depth = 8, n_estimators = 380\n",
    "#                             ,subsample = 0.8)\n",
    "# xgb_model.fit(X,y)"
   ]
  },
  {
   "cell_type": "code",
   "execution_count": 85,
   "metadata": {},
   "outputs": [],
   "source": [
    "# # X_train, X_test, y_train, y_test = train_test_split(X, y, test_size=0.2, random_state=33660)\n",
    "# X_train, X_test, y_train, y_test = train_test_split(X, y, test_size=0.2, random_state=33660)\n",
    "# # 87859\n",
    "# X_train.shape, X_test.shape\n"
   ]
  },
  {
   "cell_type": "code",
   "execution_count": 86,
   "metadata": {
    "scrolled": true
   },
   "outputs": [],
   "source": [
    "# ans = model.predict(X_test)\n",
    "# error = mean_squared_error(y_test, ans)\n",
    "# print(error)\n",
    "# print(model.score(X_test, y_test))"
   ]
  },
  {
   "cell_type": "code",
   "execution_count": 87,
   "metadata": {},
   "outputs": [],
   "source": [
    "# model.feature_importances_"
   ]
  },
  {
   "cell_type": "code",
   "execution_count": 83,
   "metadata": {},
   "outputs": [
    {
     "data": {
      "image/png": "[encoded data removed]",
      "text/plain": [
       "<Figure size 1332x756 with 1 Axes>"
      ]
     },
     "metadata": {
      "needs_background": "light"
     },
     "output_type": "display_data"
    }
   ],
   "source": [
    "# feature importance, used for feature selection\n",
    "from numpy import loadtxt\n",
    "from xgboost import plot_importance\n",
    "from matplotlib import pyplot\n",
    "plot_importance(xgb_model)\n",
    "fig = pyplot.gcf()\n",
    "fig.set_size_inches(18.5, 10.5)\n",
    "pyplot.show()"
   ]
  },
  {
   "cell_type": "markdown",
   "metadata": {},
   "source": [
    "Record down the prediction"
   ]
  },
  {
   "cell_type": "code",
   "execution_count": 102,
   "metadata": {},
   "outputs": [],
   "source": [
    "\"\"\"\n",
    "In this part, I did similar operation to test data including the merging with rain.csv\n",
    "\n",
    "Then I used the model to predict the test set, and recorded down the speed.\n",
    "\"\"\"\n",
    "\n",
    "data1 = test_df.copy()\n",
    "data1['date1'] = pd.to_datetime(data1['date'], format = '%d/%m/%Y %H:%M')\n",
    "data1['t_date'] = data1['date1'].dt.date\n",
    "data1['t_time'] = data1['date1'].dt.time\n",
    "rain18 = pd.read_csv('rain.csv')\n",
    "rain18['t_date'] = pd.to_datetime(rain18['t_date'], format = '%Y/%m/%d')\n",
    "rain18['t_date'] = rain18['t_date'].dt.date\n",
    "rain18['holiday'].fillna(0, inplace = True)\n",
    "rain18['is_weekend'].fillna(0, inplace = True)\n",
    "rain18['daybefore'].fillna(0, inplace = True)\n",
    "temp1 = pd.merge(data1, rain18, on = 't_date')\n",
    "temp1.to_csv('temp1.csv')\n",
    "\n",
    "temp1['date'] = pd.to_datetime(temp1['date'], format = '%d/%m/%Y %H:%M')\n",
    "to_one_hot = temp1['date'].dt.day_name()\n",
    "days = pd.get_dummies(to_one_hot)\n",
    "temp1 = temp1.join(days)\n",
    "day_to_onehot = pd.get_dummies(temp1['date'].dt.day)\n",
    "temp1 = temp1.join(day_to_onehot)\n",
    "# hour_to_onehot1 = pd.get_dummies(temp1['date'].dt.hour)\n",
    "# temp1 = temp1.join(hour_to_onehot1)\n",
    "temp1['month'] = temp1['date'].dt.month\n",
    "temp1['day'] = temp1['date'].dt.day\n",
    "temp1['hour'] = temp1['date'].dt.hour\n",
    "temp1['year'] = temp1['date'].dt.year\n",
    "dp1 = temp1['hour'].apply(daypart)\n",
    "dayparts1 = pd.get_dummies(dp1)\n",
    "temp1 = temp1.join(dayparts1)\n",
    "rh1 = temp1['hour'].apply(rushhour)\n",
    "rush_hours1 = pd.get_dummies(rh1)\n",
    "temp1 = temp1.join(rush_hours1)"
   ]
  },
  {
   "cell_type": "code",
   "execution_count": 103,
   "metadata": {},
   "outputs": [],
   "source": [
    "trainx = temp1[features_to_use]\n",
    "temp1['speed'] = xgb_model.predict(trainx)"
   ]
  },
  {
   "cell_type": "code",
   "execution_count": 104,
   "metadata": {},
   "outputs": [],
   "source": [
    "temp1.to_csv(\"oop.csv\")"
   ]
  },
  {
   "cell_type": "code",
   "execution_count": 105,
   "metadata": {},
   "outputs": [],
   "source": [
    "df = pd.read_csv(\"oop.csv\",usecols=['id', 'speed'])"
   ]
  },
  {
   "cell_type": "code",
   "execution_count": 106,
   "metadata": {},
   "outputs": [],
   "source": [
    "df.to_csv('myresult.csv', index = False)"
   ]
  },
  {
   "cell_type": "code",
   "execution_count": null,
   "metadata": {},
   "outputs": [],
   "source": []
  }
 ],
 "metadata": {
  "kernelspec": {
   "display_name": "Python 3",
   "language": "python",
   "name": "python3"
  },
  "language_info": {
   "codemirror_mode": {
    "name": "ipython",
    "version": 3
   },
   "file_extension": ".py",
   "mimetype": "text/x-python",
   "name": "python",
   "nbconvert_exporter": "python",
   "pygments_lexer": "ipython3",
   "version": "3.8.3"
  }
 },
 "nbformat": 4,
 "nbformat_minor": 4
}
